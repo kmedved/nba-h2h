{
 "cells": [
  {
   "cell_type": "code",
   "execution_count": 1,
   "metadata": {},
   "outputs": [],
   "source": [
    "import pandas as pd\n",
    "pd.set_option('display.max_columns', 500)\n",
    "pd.set_option('display.width', 1000)\n",
    "pd.set_option('use_inf_as_na', True)\n",
    "import os\n",
    "import random"
   ]
  },
  {
   "cell_type": "code",
   "execution_count": 2,
   "metadata": {},
   "outputs": [],
   "source": [
    "import streamlit as st\n",
    "import pandas as pd\n",
    "import random\n",
    "import os"
   ]
  },
  {
   "cell_type": "code",
   "execution_count": 3,
   "metadata": {},
   "outputs": [],
   "source": [
    "# Define the Elo rating calculation function\n",
    "def calculate_elo_rating(winner_elo, loser_elo):\n",
    "    k_factor = 32\n",
    "    expected_win = 1 / (1 + 10**((loser_elo - winner_elo) / 400))\n",
    "    actual_win = 1\n",
    "    winner_elo = round(winner_elo + k_factor * (actual_win - expected_win))\n",
    "    loser_elo = round(loser_elo + k_factor * (expected_win - actual_win))\n",
    "    return winner_elo, loser_elo\n",
    "\n",
    "# Define the main function for the Streamlit app\n",
    "def main():\n",
    "    st.title(\"Basketball Player Comparison App\")\n",
    "    st.write(\"Compare two random basketball players and update their Elo ratings!\")\n",
    "\n",
    "    # Load the ratings from a CSV file (if it exists)\n",
    "    if os.path.isfile('ratings.csv'):\n",
    "        df = pd.read_csv('ratings.csv')\n",
    "    else:\n",
    "        # If the file does not exist, initialize the DataFrame with the player dictionary\n",
    "        print('Cannot Find file')\n",
    "\n",
    "    # Get the player names from the DataFrame\n",
    "    players = df['player_name'].tolist()\n",
    "\n",
    "    # Create a session state to store the player ratings\n",
    "    #session_state = st.session_state.get(player_rating_dict={})\n",
    "\n",
    "    # Get two random players to compare\n",
    "    player1, player2 = random.sample(players, 2)\n",
    "\n",
    "    player_rating_dict = df.set_index('player_name')['rating'].to_dict()\n",
    "\n",
    "    # Display the players and ask the user to choose the better player\n",
    "    st.write(f\"**Player 1:** {player1} (Elo Rating: {player_rating_dict[player1]})\")\n",
    "    st.write(f\"**Player 2:** {player2} (Elo Rating: {player_rating_dict[player2]})\")\n",
    "\n",
    "    winner, loser = st.columns(2)\n",
    "\n",
    "    st.write(\"Who do you think is better?\")\n",
    "    with winner:\n",
    "        if st.button(f\"{player1}\"):\n",
    "            # Update the Elo ratings based on the user's choice\n",
    "            winner_elo, loser_elo = calculate_elo_rating(player_rating_dict[player1], player_rating_dict[player2])\n",
    "            player_rating_dict[player1] = winner_elo\n",
    "            player_rating_dict[player2] = loser_elo\n",
    "            st.write(f\"{player1} wins! New Elo ratings: {player1}: {winner_elo}, {player2}: {loser_elo}\")\n",
    "\n",
    "    with loser:\n",
    "        if st.button(f\"{player2}\"):\n",
    "            # Update the Elo ratings based on the user's choice\n",
    "            winner_elo, loser_elo = calculate_elo_rating(player_rating_dict[player2], player_rating_dict[player1])\n",
    "            player_rating_dict[player2] = winner_elo\n",
    "            player_rating_dict[player1] = loser_elo\n",
    "            st.write(f\"{player2} wins! New Elo ratings: {player2}: {winner_elo}, {player1}: {loser_elo}\")\n",
    "\n",
    "    df = pd.DataFrame.from_dict({'player_name': list(player_rating_dict.keys()), 'rating': list(player_rating_dict.values())})\n",
    "\n",
    "    # Display the updated Elo ratings\n",
    "    st.write(df.sort_values(by='rating', ascending=False))\n",
    "\n",
    "    # Save the updated ratings to a CSV file\n",
    "   # df.to_csv('ratings.csv')"
   ]
  },
  {
   "cell_type": "code",
   "execution_count": 4,
   "metadata": {},
   "outputs": [
    {
     "name": "stderr",
     "output_type": "stream",
     "text": [
      "2023-03-10 16:21:15.342 \n",
      "  \u001b[33m\u001b[1mWarning:\u001b[0m to view this Streamlit app on a browser, run it with the following\n",
      "  command:\n",
      "\n",
      "    streamlit run c:\\Users\\kmedv\\anaconda3\\envs\\darko\\lib\\site-packages\\ipykernel_launcher.py [ARGUMENTS]\n"
     ]
    }
   ],
   "source": [
    "main()"
   ]
  }
 ],
 "metadata": {
  "file_extension": ".py",
  "kernelspec": {
   "display_name": "darko",
   "language": "python",
   "name": "python3"
  },
  "language_info": {
   "codemirror_mode": {
    "name": "ipython",
    "version": 3
   },
   "file_extension": ".py",
   "mimetype": "text/x-python",
   "name": "python",
   "nbconvert_exporter": "python",
   "pygments_lexer": "ipython3",
   "version": "3.8.8"
  },
  "mimetype": "text/x-python",
  "name": "python",
  "npconvert_exporter": "python",
  "pygments_lexer": "ipython3",
  "version": 3,
  "vscode": {
   "interpreter": {
    "hash": "a2aea520579089df6f397b350a4c24bb60640afe610ec5ae9f5ab0df7c8c2c36"
   }
  }
 },
 "nbformat": 4,
 "nbformat_minor": 4
}
