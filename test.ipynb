{
 "cells": [
  {
   "cell_type": "code",
   "execution_count": 2,
   "metadata": {},
   "outputs": [],
   "source": [
    "import pandas as pd\n",
    "pd.set_option('display.max_columns', 500)\n",
    "pd.set_option('display.width', 1000)\n",
    "pd.set_option('use_inf_as_na', True)\n",
    "import os\n",
    "import random"
   ]
  },
  {
   "cell_type": "code",
   "execution_count": 1,
   "metadata": {},
   "outputs": [],
   "source": [
    "import streamlit as st\n",
    "import pandas as pd\n",
    "import random\n",
    "import os"
   ]
  },
  {
   "cell_type": "code",
   "execution_count": 18,
   "metadata": {},
   "outputs": [],
   "source": [
    "# Load the ratings from a CSV file (if it exists)\n",
    "if os.path.isfile('ratings.csv'):\n",
    "    df = pd.read_csv('ratings.csv')\n",
    "else:\n",
    "    # If the file does not exist, initialize the DataFrame with the player dictionary\n",
    "    print('Cannot Find file')\n",
    "\n",
    "# Get the player names from the DataFrame\n",
    "players = df['player_name'].tolist()\n",
    "\n",
    "# Get two random players to compare\n",
    "player1, player2 = random.sample(players, 2)\n",
    "\n",
    "player_rating_dict = df.set_index('player_name')['rating'].to_dict()"
   ]
  },
  {
   "cell_type": "code",
   "execution_count": 22,
   "metadata": {},
   "outputs": [],
   "source": [
    "# Display the players and ask the user to choose the better player\n",
    "st.write(f\"**Player 1:** {player1} (Elo Rating: {player_rating_dict[player1]})\")\n",
    "st.write(f\"**Player 2:** {player2} (Elo Rating: {player_rating_dict[player2]})\")"
   ]
  },
  {
   "cell_type": "code",
   "execution_count": 24,
   "metadata": {},
   "outputs": [
    {
     "data": {
      "text/html": [
       "<div>\n",
       "<style scoped>\n",
       "    .dataframe tbody tr th:only-of-type {\n",
       "        vertical-align: middle;\n",
       "    }\n",
       "\n",
       "    .dataframe tbody tr th {\n",
       "        vertical-align: top;\n",
       "    }\n",
       "\n",
       "    .dataframe thead th {\n",
       "        text-align: right;\n",
       "    }\n",
       "</style>\n",
       "<table border=\"1\" class=\"dataframe\">\n",
       "  <thead>\n",
       "    <tr style=\"text-align: right;\">\n",
       "      <th></th>\n",
       "      <th>player_name</th>\n",
       "      <th>rating</th>\n",
       "    </tr>\n",
       "  </thead>\n",
       "  <tbody>\n",
       "    <tr>\n",
       "      <th>0</th>\n",
       "      <td>Kareem Abdul-Jabbar</td>\n",
       "      <td>2200</td>\n",
       "    </tr>\n",
       "    <tr>\n",
       "      <th>1</th>\n",
       "      <td>Michael Jordan</td>\n",
       "      <td>2100</td>\n",
       "    </tr>\n",
       "    <tr>\n",
       "      <th>2</th>\n",
       "      <td>LeBron James</td>\n",
       "      <td>2000</td>\n",
       "    </tr>\n",
       "    <tr>\n",
       "      <th>3</th>\n",
       "      <td>Stephen Curry</td>\n",
       "      <td>2000</td>\n",
       "    </tr>\n",
       "    <tr>\n",
       "      <th>4</th>\n",
       "      <td>Kobe Bryant</td>\n",
       "      <td>1900</td>\n",
       "    </tr>\n",
       "    <tr>\n",
       "      <th>5</th>\n",
       "      <td>Kevin Durant</td>\n",
       "      <td>1900</td>\n",
       "    </tr>\n",
       "    <tr>\n",
       "      <th>6</th>\n",
       "      <td>Magic Johnson</td>\n",
       "      <td>1800</td>\n",
       "    </tr>\n",
       "    <tr>\n",
       "      <th>7</th>\n",
       "      <td>Larry Bird</td>\n",
       "      <td>1700</td>\n",
       "    </tr>\n",
       "    <tr>\n",
       "      <th>8</th>\n",
       "      <td>Tim Duncan</td>\n",
       "      <td>1700</td>\n",
       "    </tr>\n",
       "    <tr>\n",
       "      <th>9</th>\n",
       "      <td>Shaquille O'Neal</td>\n",
       "      <td>1600</td>\n",
       "    </tr>\n",
       "  </tbody>\n",
       "</table>\n",
       "</div>"
      ],
      "text/plain": [
       "           player_name  rating\n",
       "0  Kareem Abdul-Jabbar    2200\n",
       "1       Michael Jordan    2100\n",
       "2         LeBron James    2000\n",
       "3        Stephen Curry    2000\n",
       "4          Kobe Bryant    1900\n",
       "5         Kevin Durant    1900\n",
       "6        Magic Johnson    1800\n",
       "7           Larry Bird    1700\n",
       "8           Tim Duncan    1700\n",
       "9     Shaquille O'Neal    1600"
      ]
     },
     "execution_count": 24,
     "metadata": {},
     "output_type": "execute_result"
    }
   ],
   "source": [
    "df"
   ]
  },
  {
   "cell_type": "code",
   "execution_count": 28,
   "metadata": {},
   "outputs": [],
   "source": [
    "    st.title(\"Basketball Player Comparison App\")\n",
    "    st.write(\"Compare two random basketball players and update their Elo ratings!\")\n",
    "\n",
    "    # Load the ratings from a CSV file (if it exists)\n",
    "    if os.path.isfile('ratings.csv'):\n",
    "        df = pd.read_csv('ratings.csv')\n",
    "    else:\n",
    "        # If the file does not exist, initialize the DataFrame with the player dictionary\n",
    "        print('Cannot Find file')\n",
    "\n",
    "    # Get the player names from the DataFrame\n",
    "    players = df['player_name'].tolist()\n",
    "\n",
    "    # Get two random players to compare\n",
    "    player1, player2 = random.sample(players, 2)\n",
    "\n",
    "    player_rating_dict = df.set_index('player_name')['rating'].to_dict()\n",
    "\n",
    "    # Display the players and ask the user to choose the better player\n",
    "    st.write(f\"**Player 1:** {player1} (Elo Rating: {player_rating_dict[player1]})\")\n",
    "    st.write(f\"**Player 2:** {player2} (Elo Rating: {player_rating_dict[player2]})\")\n",
    "\n",
    "    winner, loser = st.columns(2)\n",
    "    with winner:\n",
    "        if st.button(f\"{player1}\"):\n",
    "            # Update the Elo ratings based on the user's choice\n",
    "            winner_elo, loser_elo = calculate_elo_rating(player_rating_dict[player1], player_rating_dict[player2])\n",
    "            player_rating_dict[player1] = winner_elo\n",
    "            player_rating_dict[player2] = loser_elo\n",
    "            st.write(f\"{player1} wins! New Elo ratings: {player1}: {winner_elo}, {player2}: {loser_elo}\")\n",
    "\n",
    "    with loser:\n",
    "        if st.button(f\"{player2}\"):\n",
    "            # Update the Elo ratings based on the user's choice\n",
    "            winner_elo, loser_elo = calculate_elo_rating(player_rating_dict[player2], player_rating_dict[player1])\n",
    "            player_rating_dict[player2] = winner_elo\n",
    "            player_rating_dict[player1] = loser_elo\n",
    "            st.write(f\"{player2} wins! New Elo ratings: {player2}: {winner_elo}, {player1}: {loser_elo}\")\n",
    "\n",
    "    df = pd.DataFrame.from_dict(player_rating_dict, orient='index', columns=['rating'])\n",
    "\n",
    "    # Display the updated Elo ratings\n",
    "    st.write(df.sort_values(by='rating', ascending=False))\n",
    "\n",
    "    # Save the updated ratings to a CSV file\n",
    "    df.to_csv('ratings.csv')"
   ]
  }
 ],
 "metadata": {
  "file_extension": ".py",
  "kernelspec": {
   "display_name": "darko",
   "language": "python",
   "name": "python3"
  },
  "language_info": {
   "codemirror_mode": {
    "name": "ipython",
    "version": 3
   },
   "file_extension": ".py",
   "mimetype": "text/x-python",
   "name": "python",
   "nbconvert_exporter": "python",
   "pygments_lexer": "ipython3",
   "version": "3.8.8"
  },
  "mimetype": "text/x-python",
  "name": "python",
  "npconvert_exporter": "python",
  "pygments_lexer": "ipython3",
  "version": 3,
  "vscode": {
   "interpreter": {
    "hash": "a2aea520579089df6f397b350a4c24bb60640afe610ec5ae9f5ab0df7c8c2c36"
   }
  }
 },
 "nbformat": 4,
 "nbformat_minor": 4
}
